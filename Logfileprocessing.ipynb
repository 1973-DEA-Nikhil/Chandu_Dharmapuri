{
 "cells": [
  {
   "cell_type": "code",
   "execution_count": 1,
   "id": "d7cef868-ba6c-4fe6-a477-4e61ef768ad4",
   "metadata": {},
   "outputs": [],
   "source": [
    "#Processing Log files\n",
    "from typing import List, Dict\n",
    "from datetime import datetime\n",
    "def processing_logs(logs: List[str]) -> Dict[int, int]:\n",
    "    durations = {}\n",
    "    start_times = {}\n",
    "    for log in logs:\n",
    "        timestamp_str, user_id_str, action = log.split()\n",
    "        timestamp = datetime.strptime(timestamp_str, \"[%Y-%m-%d %H:%M:%S]\")\n",
    "        user_id = int(user_id_str)\n",
    "        \n",
    "        if action == \"start\":\n",
    "            start_times[user_id] = timestamp\n",
    "        else:  # 'stop' action\n",
    "            durations[user_id] = durations.get(user_id, 0) + (timestamp - start_times.pop(user_id)).total_seconds()\n",
    "    return durations"
   ]
  },
  {
   "cell_type": "code",
   "execution_count": null,
   "id": "33583f2e-8848-413a-814e-c64d2278f18e",
   "metadata": {},
   "outputs": [],
   "source": []
  }
 ],
 "metadata": {
  "kernelspec": {
   "display_name": "Python 3 (ipykernel)",
   "language": "python",
   "name": "python3"
  },
  "language_info": {
   "codemirror_mode": {
    "name": "ipython",
    "version": 3
   },
   "file_extension": ".py",
   "mimetype": "text/x-python",
   "name": "python",
   "nbconvert_exporter": "python",
   "pygments_lexer": "ipython3",
   "version": "3.10.1"
  }
 },
 "nbformat": 4,
 "nbformat_minor": 5
}
