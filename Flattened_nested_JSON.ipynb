{
 "cells": [
  {
   "cell_type": "code",
   "execution_count": 1,
   "id": "c040beb5-9b24-4159-853b-0c87ad08c951",
   "metadata": {},
   "outputs": [
    {
     "name": "stdout",
     "output_type": "stream",
     "text": [
      "{'name': 'John', 'address.city': 'New York', 'address.state': 'NY', 'address.zipcode.code': 10001, 'address.zipcode.plus4': 1234, 'phone_numbers.0.type': 'home', 'phone_numbers.0.number': '123-456-7890', 'phone_numbers.1.type': 'work', 'phone_numbers.1.number': '987-654-3210'}\n"
     ]
    }
   ],
   "source": [
    "from typing import Dict, Any\n",
    "\n",
    "def flatten_dictionary(nested_dict: Dict[str, Any]) -> Dict[str, Any]:\n",
    "    flat_result = {}\n",
    "\n",
    "    def flatten_helper(current_dict, base_key=''):\n",
    "        for key, value in current_dict.items():\n",
    "            new_key = f\"{base_key}{key}\" if base_key else key\n",
    "            \n",
    "            if isinstance(value, dict):\n",
    "                flatten_helper(value, new_key + '.')\n",
    "            elif isinstance(value, list):\n",
    "                for index, item in enumerate(value):\n",
    "                    flatten_helper({f\"{index}\": item}, new_key + '.')\n",
    "            else:\n",
    "                flat_result[new_key] = value\n",
    "\n",
    "    flatten_helper(nested_dict)\n",
    "    return flat_result\n",
    "\n",
    "\n",
    "nested_data = {\n",
    "    \"name\": \"John\",\n",
    "    \"address\": {\n",
    "        \"city\": \"New York\",\n",
    "        \"state\": \"NY\",\n",
    "        \"zipcode\": {\n",
    "            \"code\": 10001,\n",
    "            \"plus4\": 1234\n",
    "        }\n",
    "    },\n",
    "    \"phone_numbers\": [\n",
    "        {\"type\": \"home\", \"number\": \"123-456-7890\"},\n",
    "        {\"type\": \"work\", \"number\": \"987-654-3210\"}\n",
    "    ]\n",
    "}\n",
    "\n",
    "flattened_data = flatten_dictionary(nested_data)\n",
    "print(flattened_data)\n"
   ]
  }
 ],
 "metadata": {
  "kernelspec": {
   "display_name": "Python 3 (ipykernel)",
   "language": "python",
   "name": "python3"
  },
  "language_info": {
   "codemirror_mode": {
    "name": "ipython",
    "version": 3
   },
   "file_extension": ".py",
   "mimetype": "text/x-python",
   "name": "python",
   "nbconvert_exporter": "python",
   "pygments_lexer": "ipython3",
   "version": "3.10.1"
  }
 },
 "nbformat": 4,
 "nbformat_minor": 5
}
