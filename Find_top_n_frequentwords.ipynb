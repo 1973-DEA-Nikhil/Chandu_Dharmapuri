{
 "cells": [
  {
   "cell_type": "code",
   "execution_count": 1,
   "id": "3af0413f-2f3b-43bf-988e-d031bbc8b183",
   "metadata": {},
   "outputs": [
    {
     "name": "stdout",
     "output_type": "stream",
     "text": [
      "['banana', 'apple']\n"
     ]
    }
   ],
   "source": [
    "from typing import List\n",
    "from collections import Counter\n",
    "\n",
    "def top_n_frequent(words: List[str], n: int) -> List[str]:\n",
    "    frequency = Counter(words)\n",
    "    \n",
    "    # Sort words by frequency (desc) and then alphabetically (asc)\n",
    "    most_common = sorted(frequency.keys(), key=lambda w: (-frequency[w], w))\n",
    "    \n",
    "    # Return the top N frequent words\n",
    "    return most_common[:n]\n",
    "word_list = [\"apple\", \"banana\", \"apple\", \"orange\", \"banana\", \"banana\"]\n",
    "top_count = 2\n",
    "result = top_n_frequent(word_list, top_count)\n",
    "print(result)  # Output: ['banana', 'apple']\n"
   ]
  }
 ],
 "metadata": {
  "kernelspec": {
   "display_name": "Python 3 (ipykernel)",
   "language": "python",
   "name": "python3"
  },
  "language_info": {
   "codemirror_mode": {
    "name": "ipython",
    "version": 3
   },
   "file_extension": ".py",
   "mimetype": "text/x-python",
   "name": "python",
   "nbconvert_exporter": "python",
   "pygments_lexer": "ipython3",
   "version": "3.10.1"
  }
 },
 "nbformat": 4,
 "nbformat_minor": 5
}
