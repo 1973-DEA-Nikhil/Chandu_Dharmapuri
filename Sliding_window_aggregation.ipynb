{
 "cells": [
  {
   "cell_type": "code",
   "execution_count": 1,
   "id": "5d8782f7-3556-40df-adfc-f992d3f27a17",
   "metadata": {},
   "outputs": [
    {
     "name": "stdout",
     "output_type": "stream",
     "text": [
      "[600, 900, 1200]\n"
     ]
    }
   ],
   "source": [
    "#Sliding Window Aggregation\n",
    "from typing import List\n",
    "def sliding_window_sum(transactions: List[int], k: int) -> List[int]:\n",
    "    if k <= 0 or k > len(transactions):\n",
    "        return []  # Return empty list for invalid k\n",
    "\n",
    "    return [sum(transactions[i:i + k]) for i in range(len(transactions) - k + 1)]\n",
    "transactions = [100, 200, 300, 400, 500]\n",
    "k = 3\n",
    "print(sliding_window_sum(transactions, k))\n"
   ]
  },
  {
   "cell_type": "code",
   "execution_count": null,
   "id": "4746e5a9-9999-480f-a6b1-08f7047cfc0a",
   "metadata": {},
   "outputs": [],
   "source": []
  }
 ],
 "metadata": {
  "kernelspec": {
   "display_name": "Python 3 (ipykernel)",
   "language": "python",
   "name": "python3"
  },
  "language_info": {
   "codemirror_mode": {
    "name": "ipython",
    "version": 3
   },
   "file_extension": ".py",
   "mimetype": "text/x-python",
   "name": "python",
   "nbconvert_exporter": "python",
   "pygments_lexer": "ipython3",
   "version": "3.10.1"
  }
 },
 "nbformat": 4,
 "nbformat_minor": 5
}
