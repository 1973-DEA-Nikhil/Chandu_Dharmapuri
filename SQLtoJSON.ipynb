{
 "cells": [
  {
   "cell_type": "code",
   "execution_count": 1,
   "id": "d7cef868-ba6c-4fe6-a477-4e61ef768ad4",
   "metadata": {},
   "outputs": [],
   "source": [
    "#1. Question: SQL-to-JSON Transformation\n",
    "from typing import List, Dict, Union\n",
    "\n",
    "def transform_data(rows: List[Dict[str, Union[str, int]]]) -> Dict[int, Dict[str, Union[str, int]]]:\n",
    "    transformed_data = {}\n",
    "    for r in rows:\n",
    "        user_id = r['user_id']\n",
    "        transformed_data[user_id] = {\n",
    "            'name': r['name'],\n",
    "            'age': r['age'],\n",
    "            'city': r['city']\n",
    "        }\n",
    "    return transformed_data\n"
   ]
  },
  {
   "cell_type": "code",
   "execution_count": null,
   "id": "33583f2e-8848-413a-814e-c64d2278f18e",
   "metadata": {},
   "outputs": [],
   "source": []
  }
 ],
 "metadata": {
  "kernelspec": {
   "display_name": "Python 3 (ipykernel)",
   "language": "python",
   "name": "python3"
  },
  "language_info": {
   "codemirror_mode": {
    "name": "ipython",
    "version": 3
   },
   "file_extension": ".py",
   "mimetype": "text/x-python",
   "name": "python",
   "nbconvert_exporter": "python",
   "pygments_lexer": "ipython3",
   "version": "3.10.1"
  }
 },
 "nbformat": 4,
 "nbformat_minor": 5
}
