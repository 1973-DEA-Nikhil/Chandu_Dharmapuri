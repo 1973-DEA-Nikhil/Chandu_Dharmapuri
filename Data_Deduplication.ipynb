{
 "cells": [
  {
   "cell_type": "code",
   "execution_count": null,
   "id": "2420ac3b-a929-413c-80bd-9817ae7f2ae9",
   "metadata": {},
   "outputs": [],
   "source": [
    "#Data Deduplication\n",
    "def deduplicate(records):\n",
    "    seen_emails = set()\n",
    "    return [r for r in records if r['email'] not in seen_emails and not seen_emails.add(r['email'])]\n",
    "\n",
    "# Input function to get records from user\n",
    "def get_user_input():\n",
    "    records = []\n",
    "    n = int(input(\"Enter the number of records: \"))\n",
    "    for _ in range(n):\n",
    "        record = {}\n",
    "        record['id'] = input(\"Enter ID: \")\n",
    "        record['name'] = input(\"Enter Name: \")\n",
    "        record['email'] = input(\"Enter Email: \")\n",
    "        records.append(record)\n",
    "    return records\n",
    "\n",
    "# Example usage with user input\n",
    "records = get_user_input()\n",
    "unique_records = deduplicate(records)\n",
    "\n",
    "print(\"Unique Records:\")\n",
    "for record in unique_records:\n",
    "    print(record)\n"
   ]
  }
 ],
 "metadata": {
  "kernelspec": {
   "display_name": "Python 3 (ipykernel)",
   "language": "python",
   "name": "python3"
  },
  "language_info": {
   "codemirror_mode": {
    "name": "ipython",
    "version": 3
   },
   "file_extension": ".py",
   "mimetype": "text/x-python",
   "name": "python",
   "nbconvert_exporter": "python",
   "pygments_lexer": "ipython3",
   "version": "3.10.1"
  }
 },
 "nbformat": 4,
 "nbformat_minor": 5
}
